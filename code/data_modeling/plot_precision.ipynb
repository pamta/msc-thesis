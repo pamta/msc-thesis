{
 "metadata": {
  "language_info": {
   "codemirror_mode": {
    "name": "ipython",
    "version": 3
   },
   "file_extension": ".py",
   "mimetype": "text/x-python",
   "name": "python",
   "nbconvert_exporter": "python",
   "pygments_lexer": "ipython3",
   "version": "3.8.6-final"
  },
  "orig_nbformat": 2,
  "kernelspec": {
   "name": "python3",
   "display_name": "Python 3",
   "language": "python"
  }
 },
 "nbformat": 4,
 "nbformat_minor": 2,
 "cells": [
  {
   "cell_type": "code",
   "execution_count": null,
   "metadata": {},
   "outputs": [],
   "source": [
    "import pandas as pd\n",
    "import numpy as np\n",
    "\n",
    "df = pd.read_csv(\"precision.csv\", encoding=\"utf8\")\n",
    "\n",
    "import seaborn as sns\n",
    "import matplotlib.pyplot as plt\n",
    "plt.style.use('seaborn')\n",
    "# PLOT HIST zoomed\n",
    "fig = plt.gcf()\n",
    "fig.set_size_inches(20, 13)\n",
    "plt.xticks(fontsize=16)\n",
    "plt.yticks(fontsize=16)\n",
    "plt.xlabel(\"precision\", fontsize=18)\n",
    "plt.ylabel(\"recall\", fontsize=16)\n",
    "ax = sns.lineplot(data=df)\n",
    "ax.set_xticklabels( ('A', 0, 0.2, 0.4, 0.6, 0.8, 1) )\n",
    "ax.set_title(f'Precision by threshold on different clusterings',size=16, color='black')\n",
    "plt.show()"
   ]
  },
  {
   "cell_type": "code",
   "execution_count": null,
   "metadata": {},
   "outputs": [],
   "source": [
    "df = pd.DataFrame()\n",
    "models = [\n",
    "        \"embeddings-new_large-general_3B_fasttext.vec\",\n",
    "        \"fasttext-sbwc.3.6.e20.vec\",\n",
    "        \"glove-sbwc.i25.vec\",\n",
    "        \"SBW-vectors-300-min5.txt\",\n",
    "    ]\n",
    "for model in models:\n",
    "    for n_clusters_kmeans in range(100, 425, 25):\n",
    "        temp = pd.read_csv(\"datasets/\" + str(model) + \"_\" + str(n_clusters_kmeans) + \"_precision.csv\")\n",
    "        precisions = temp['precision'].values\n",
    "        df[str(model)+str(n_clusters_kmeans)] = precisions\n",
    "\n",
    "import seaborn as sns\n",
    "import matplotlib.pyplot as plt\n",
    "plt.style.use('seaborn')\n",
    "# PLOT HIST zoomed\n",
    "fig = plt.gcf()\n",
    "fig.set_size_inches(20, 13)\n",
    "plt.xticks(fontsize=16)\n",
    "plt.yticks(fontsize=16)\n",
    "plt.xlabel(\"threshold\", fontsize=18)\n",
    "plt.ylabel(\"precision\", fontsize=16)\n",
    "ax = sns.lineplot(data=df)\n",
    "ax.set_xticklabels( ('A', 0, 0.2, 0.4, 0.6, 0.8, 1) )\n",
    "ax.set_title(f'Precision by threshold on different clusterings',size=16, color='black')\n",
    "plt.legend(bbox_to_anchor=(1.05, 1), loc=2, borderaxespad=0.)\n",
    "plt.show()"
   ]
  },
  {
   "cell_type": "code",
   "execution_count": null,
   "metadata": {},
   "outputs": [],
   "source": [
    "import pandas as pd\n",
    "import numpy as np\n",
    "\n",
    "df = pd.read_csv(\"distinct intents.csv\", encoding=\"utf8\")\n",
    "\n",
    "import seaborn as sns\n",
    "import matplotlib.pyplot as plt\n",
    "plt.style.use('seaborn')\n",
    "# PLOT HIST zoomed\n",
    "fig = plt.gcf()\n",
    "fig.set_size_inches(20, 13)\n",
    "plt.xticks(fontsize=16)\n",
    "plt.yticks(fontsize=16)\n",
    "plt.xlabel(\"threshold\", fontsize=18)\n",
    "plt.ylabel(\"precision\", fontsize=16)\n",
    "ax = sns.lineplot(data=df)\n",
    "ax.set_xticklabels( ('A', 0, 0.2, 0.4, 0.6, 0.8, 1) )\n",
    "ax.set_title(f'Precision by threshold on different clusterings',size=16, color='black')\n",
    "plt.show()"
   ]
  },
  {
   "cell_type": "code",
   "execution_count": null,
   "metadata": {},
   "outputs": [],
   "source": [
    "df = pd.DataFrame()\n",
    "models = [\n",
    "        \"embeddings-new_large-general_3B_fasttext.vec\",\n",
    "        \"fasttext-sbwc.3.6.e20.vec\",\n",
    "        \"glove-sbwc.i25.vec\",\n",
    "        \"SBW-vectors-300-min5.txt\",\n",
    "    ]\n",
    "for model in models:\n",
    "    for n_clusters_kmeans in range(100, 425, 25):\n",
    "        temp = pd.read_csv(\"datasets/\" + str(model) + \"_\" + str(n_clusters_kmeans) + \"_precision.csv\")\n",
    "        counts = temp['binary count'].values\n",
    "        df[str(model)+str(n_clusters_kmeans)] = counts\n",
    "\n",
    "import seaborn as sns\n",
    "import matplotlib.pyplot as plt\n",
    "plt.style.use('seaborn')\n",
    "# PLOT HIST zoomed\n",
    "fig = plt.gcf()\n",
    "fig.set_size_inches(20, 13)\n",
    "plt.xticks(fontsize=16)\n",
    "plt.yticks(fontsize=16)\n",
    "plt.xlabel(\"threshold\", fontsize=18)\n",
    "plt.ylabel(\"precision\", fontsize=16)\n",
    "ax = sns.lineplot(data=df)\n",
    "ax.set_xticklabels( ('A', 0, 0.2, 0.4, 0.6, 0.8, 1) )\n",
    "ax.set_title(f'Precision by threshold on different clusterings',size=16, color='black')\n",
    "plt.legend(bbox_to_anchor=(1.05, 1), loc=2, borderaxespad=0.)\n",
    "plt.show()"
   ]
  },
  {
   "cell_type": "code",
   "execution_count": null,
   "metadata": {},
   "outputs": [],
   "source": []
  }
 ]
}