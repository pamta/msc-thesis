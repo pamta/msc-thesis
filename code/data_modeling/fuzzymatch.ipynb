{
 "metadata": {
  "language_info": {
   "codemirror_mode": {
    "name": "ipython",
    "version": 3
   },
   "file_extension": ".py",
   "mimetype": "text/x-python",
   "name": "python",
   "nbconvert_exporter": "python",
   "pygments_lexer": "ipython3",
   "version": "3.9.2-final"
  },
  "orig_nbformat": 2,
  "kernelspec": {
   "name": "python3",
   "display_name": "Python 3.9.2 64-bit",
   "metadata": {
    "interpreter": {
     "hash": "63fd5069d213b44bf678585dea6b12cceca9941eaf7f819626cde1f2670de90d"
    }
   }
  }
 },
 "nbformat": 4,
 "nbformat_minor": 2,
 "cells": [
  {
   "cell_type": "code",
   "execution_count": null,
   "metadata": {},
   "outputs": [],
   "source": [
    "from polyfuzz import PolyFuzz\n",
    "\n",
    "from_list = [\"apple\", \"apples\", \"appl\", \"recal\", \"house\", \"similarity\"]\n",
    "to_list = [\"apple\", \"apples\", \"mouse\"]\n",
    "\n",
    "model = PolyFuzz(\"TF-IDF\")\n",
    "model.match(from_list, to_list)"
   ]
  },
  {
   "cell_type": "code",
   "execution_count": null,
   "metadata": {},
   "outputs": [],
   "source": [
    "model.get_matches()"
   ]
  },
  {
   "cell_type": "code",
   "execution_count": null,
   "metadata": {},
   "outputs": [],
   "source": [
    "model.visualize_precision_recall()"
   ]
  },
  {
   "cell_type": "code",
   "execution_count": null,
   "metadata": {},
   "outputs": [],
   "source": [
    "import matplotlib.pyplot as plt\n",
    "\n",
    "plt.style.use('seaborn')"
   ]
  },
  {
   "cell_type": "code",
   "execution_count": null,
   "metadata": {},
   "outputs": [],
   "source": [
    "import pandas as pd\n",
    "import utils\n",
    "\n",
    "df = utils.leer_dpto('SOAD')\n",
    "df_menus = utils.leer_menus_labels(name=\"menus-labels\")\n",
    "df_menus['idx'] = [i for i in range(0, len(df_menus))]"
   ]
  },
  {
   "cell_type": "code",
   "execution_count": null,
   "metadata": {},
   "outputs": [],
   "source": [
    "import gensim\n",
    "word_vectorsword_vector_embeddings_new_large_general_3B_fasttext = gensim.models.KeyedVectors.load_word2vec_format(\"D:/Files/Proyectos/Thesis-V2/ignore/models/embeddings-new_large-general_3B_fasttext.vec\", binary=False, limit=100000)\n",
    "word_vectorsword_vector_fasttext_sbwc_3_6_e20 = gensim.models.KeyedVectors.load_word2vec_format(\"D:/Files/Proyectos/Thesis-V2/ignore/models/fasttext-sbwc.3.6.e20.vec\", binary=False, limit=100000)\n",
    "word_vectorsword_vector_glove_sbwc_i25 = gensim.models.KeyedVectors.load_word2vec_format(\"D:/Files/Proyectos/Thesis-V2/ignore/models/glove-sbwc.i25.vec\", binary=False, limit=100000)\n",
    "word_vectorsword_vector_SBW_vectors_300_min5 = gensim.models.KeyedVectors.load_word2vec_format(\"D:/Files/Proyectos/Thesis-V2/ignore/models/SBW-vectors-300-min5.txt\", binary=False, limit=100000)\n",
    "\n",
    "word_vectorsword_vector_embeddings_new_large_general_3B_fasttext.save('word_vectorsword_vector_embeddings_new_large_general_3B_fasttext')\n",
    "word_vectorsword_vector_fasttext_sbwc_3_6_e20.save('word_vectorsword_vector_fasttext_sbwc_3_6_e20')\n",
    "word_vectorsword_vector_glove_sbwc_i25.save('word_vectorsword_vector_glove_sbwc_i25')\n",
    "word_vectorsword_vector_SBW_vectors_300_min5.save('word_vectorsword_vector_SBW_vectors_300_min5')"
   ]
  },
  {
   "cell_type": "code",
   "execution_count": null,
   "metadata": {},
   "outputs": [],
   "source": [
    "%%time\n",
    "from polyfuzz.models import TFIDF, Embeddings\n",
    "from flair.embeddings import WordEmbeddings\n",
    "\n",
    "from_list = list(df.OracionLematizada.values)\n",
    "to_list = list(df_menus.OracionLematizada.values)\n",
    "\n",
    "tfidf = TFIDF(n_gram_range=(1, 3), clean_string=False, min_similarity=0, cosine_method=\"sklearn\", model_id=\"tf-idf\")\n",
    "\n",
    "# embedding_wiki_es_vec_we = WordEmbeddings('es')\n",
    "# embedding_wiki_es_vec_e = Embeddings(embedding_wiki_es_vec_we, min_similarity=0, model_id='wiki.es')\n",
    "# \n",
    "# embedding_new_large_general_3B_fasttext_we = WordEmbeddings('D:/Files/Proyectos/Thesis-V2/ignore/gensim/word_vectorsword_vector_embeddings_new_large_general_3B_fasttext')\n",
    "# embedding_new_large_general_3B_fasttext_e = Embeddings(embedding_new_large_general_3B_fasttext_we, min_similarity=0, model_id='embeddings-new_large-general_3B_fasttext')\n",
    "# \n",
    "# embedding_fasttext_sbwc_3_6_e20_we = WordEmbeddings('D:/Files/Proyectos/Thesis-V2/ignore/gensim/word_vectorsword_vector_fasttext_sbwc_3_6_e20')\n",
    "# embedding_fasttext_sbwc_3_6_e20_e = Embeddings(embedding_fasttext_sbwc_3_6_e20_we, min_similarity=0, model_id='fasttext-sbwc.3.6.e20')\n",
    "# \n",
    "# embedding_glove_sbwc_i25_we = WordEmbeddings('D:/Files/Proyectos/Thesis-V2/ignore/gensim/word_vectorsword_vector_glove_sbwc_i25')\n",
    "# embedding_glove_sbwc_i25_e = Embeddings(embedding_glove_sbwc_i25_we, min_similarity=0, model_id='glove-sbwc.i25')\n",
    "# \n",
    "# embedding_SBW_vectors_300_min5_we = WordEmbeddings('D:/Files/Proyectos/Thesis-V2/ignore/gensim/word_vectorsword_vector_SBW_vectors_300_min5')\n",
    "# embedding_SBW_vectors_300_min5_e = Embeddings(embedding_SBW_vectors_300_min5_we, min_similarity=0, model_id='SBW-vectors-300-min5')\n",
    "\n",
    "string_models = [tfidf]#, embedding_wiki_es_vec_e, embedding_new_large_general_3B_fasttext_e, embedding_fasttext_sbwc_3_6_e20_e, embedding_glove_sbwc_i25_e, embedding_SBW_vectors_300_min5_e]\n",
    "model = PolyFuzz(string_models)\n",
    "\n",
    "model.match(from_list, to_list)\n",
    "# model.get_matches()"
   ]
  },
  {
   "cell_type": "code",
   "execution_count": null,
   "metadata": {},
   "outputs": [],
   "source": [
    "model.get_matches()['Similarity'].hist()"
   ]
  },
  {
   "cell_type": "code",
   "execution_count": null,
   "metadata": {},
   "outputs": [],
   "source": [
    "model.visualize_precision_recall()"
   ]
  },
  {
   "cell_type": "code",
   "execution_count": null,
   "metadata": {},
   "outputs": [],
   "source": [
    "model.get_matches().sample(5)"
   ]
  },
  {
   "cell_type": "code",
   "execution_count": null,
   "metadata": {},
   "outputs": [],
   "source": [
    "model.get_matches()['tf-idf'].groupby(by=\"To\").count()"
   ]
  },
  {
   "cell_type": "code",
   "execution_count": null,
   "metadata": {},
   "outputs": [],
   "source": []
  },
  {
   "cell_type": "code",
   "execution_count": null,
   "metadata": {},
   "outputs": [],
   "source": []
  },
  {
   "cell_type": "code",
   "execution_count": null,
   "metadata": {},
   "outputs": [],
   "source": []
  },
  {
   "cell_type": "code",
   "execution_count": null,
   "metadata": {},
   "outputs": [],
   "source": [
    "model.get_matches()[model.get_matches()['Similarity'] > 0.3].info()"
   ]
  },
  {
   "cell_type": "code",
   "execution_count": null,
   "metadata": {},
   "outputs": [],
   "source": []
  },
  {
   "cell_type": "code",
   "execution_count": null,
   "metadata": {},
   "outputs": [],
   "source": []
  },
  {
   "cell_type": "code",
   "execution_count": null,
   "metadata": {},
   "outputs": [],
   "source": []
  },
  {
   "cell_type": "code",
   "execution_count": null,
   "metadata": {},
   "outputs": [],
   "source": []
  }
 ]
}