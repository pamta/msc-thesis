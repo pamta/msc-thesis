{
 "metadata": {
  "language_info": {
   "codemirror_mode": {
    "name": "ipython",
    "version": 3
   },
   "file_extension": ".py",
   "mimetype": "text/x-python",
   "name": "python",
   "nbconvert_exporter": "python",
   "pygments_lexer": "ipython3",
   "version": "3.8.8"
  },
  "orig_nbformat": 2,
  "kernelspec": {
   "name": "python388jvsc74a57bd09da78ff3513faed79987464be42cd2d368fc5cc0cc8750796d4e667a76f20c05",
   "display_name": "Python 3.8.8 64-bit ('env': venv)",
   "language": "python"
  }
 },
 "nbformat": 4,
 "nbformat_minor": 2,
 "cells": [
  {
   "cell_type": "code",
   "execution_count": null,
   "metadata": {},
   "outputs": [],
   "source": [
    "import pandas as pd\n",
    "import math\n",
    "\n",
    "dict_intent = {}\n",
    "list_clust_pass = []\n",
    "for k in range(300):\n",
    "    df = pd.read_csv(\"tf-idf-500-300/samples-per-k/\" + str(k) + \".csv\")\n",
    "    df['x'] = [1] * len(df)\n",
    "    if df.groupby('cluster').sum()['x'].values[0] >= math.floor(len(df)/2):\n",
    "        list_clust_pass.append(k)\n",
    "        if df['intent text'].values[0] not in dict_intent.keys():\n",
    "            dict_intent[df['intent text'].values[0]] = 1\n",
    "        else:\n",
    "            dict_intent[df['intent text'].values[0]] = dict_intent.get(df['intent text'].values[0]) + 1"
   ]
  },
  {
   "cell_type": "code",
   "execution_count": null,
   "metadata": {},
   "outputs": [],
   "source": [
    "import pandas as pd\n",
    "import math\n",
    "\n",
    "dict_intent = {}\n",
    "list_clust_pass = []\n",
    "for k in range(100):\n",
    "    df = pd.read_csv(\"tf-idf-500-100/samples-per-k/\" + str(k) + \".csv\")\n",
    "    if df.groupby('cluster').sum()['x'].values[0] >= math.floor(len(df)/2):\n",
    "        list_clust_pass.append(k)\n",
    "        if df['intent text'].values[0] not in dict_intent.keys():\n",
    "            dict_intent[df['intent text'].values[0]] = 1\n",
    "        else:\n",
    "            dict_intent[df['intent text'].values[0]] = dict_intent.get(df['intent text'].values[0]) + 1"
   ]
  },
  {
   "cell_type": "code",
   "execution_count": null,
   "metadata": {},
   "outputs": [],
   "source": [
    "import pandas as pd\n",
    "import math\n",
    "\n",
    "dict_intent = {}\n",
    "list_clust_pass = []\n",
    "for k in range(300):\n",
    "    df = pd.read_csv(\"tf-idf-500-300/samples-per-k/\" + str(k) + \".csv\")\n",
    "    list_clust_pass.append(k)\n",
    "    if df['intent text'].values[0] not in dict_intent.keys():\n",
    "        dict_intent[df['intent text'].values[0]] = 1\n",
    "    else:\n",
    "        dict_intent[df['intent text'].values[0]] = dict_intent.get(df['intent text'].values[0]) + 1"
   ]
  },
  {
   "cell_type": "code",
   "execution_count": null,
   "metadata": {},
   "outputs": [],
   "source": [
    "len(dict_intent)"
   ]
  },
  {
   "cell_type": "code",
   "execution_count": null,
   "metadata": {},
   "outputs": [],
   "source": [
    "import numpy as np"
   ]
  },
  {
   "cell_type": "code",
   "execution_count": null,
   "metadata": {},
   "outputs": [],
   "source": [
    "dict_intent"
   ]
  },
  {
   "cell_type": "code",
   "execution_count": null,
   "metadata": {},
   "outputs": [],
   "source": [
    "len(dict_intent)"
   ]
  },
  {
   "cell_type": "code",
   "execution_count": null,
   "metadata": {},
   "outputs": [],
   "source": [
    "sum(dict_intent.values())"
   ]
  },
  {
   "cell_type": "code",
   "execution_count": null,
   "metadata": {},
   "outputs": [],
   "source": [
    "list_clust_pass"
   ]
  },
  {
   "cell_type": "code",
   "execution_count": null,
   "metadata": {},
   "outputs": [],
   "source": [
    "for k in list_clust_pass:\n",
    "    df = pd.read_csv(\"res.csv\")\n",
    "    print(k, df[df['cluster'] == k]['mean score'].values[0])"
   ]
  },
  {
   "cell_type": "code",
   "execution_count": null,
   "metadata": {},
   "outputs": [],
   "source": [
    "print( df.iloc[list_clust_pass]['mean score'].mean() )\n",
    "print( df.iloc[list_clust_pass]['mean score'].std() )"
   ]
  },
  {
   "cell_type": "code",
   "execution_count": null,
   "metadata": {},
   "outputs": [],
   "source": [
    " df.iloc[list_clust_pass]['mean score'].mean() -  df.iloc[list_clust_pass]['mean score'].std() "
   ]
  },
  {
   "cell_type": "code",
   "execution_count": null,
   "metadata": {},
   "outputs": [],
   "source": [
    "print( df.iloc[np.setdiff1d(df.index.values, list_clust_pass)]['mean score'].mean() )\n",
    "print( df.iloc[np.setdiff1d(df.index.values, list_clust_pass)]['mean score'].std() )"
   ]
  },
  {
   "cell_type": "code",
   "execution_count": null,
   "metadata": {},
   "outputs": [],
   "source": [
    "df.iloc[np.setdiff1d(df.index.values, list_clust_pass)]['mean score'].mean() + df.iloc[np.setdiff1d(df.index.values, list_clust_pass)]['mean score'].std()"
   ]
  },
  {
   "cell_type": "code",
   "execution_count": null,
   "metadata": {},
   "outputs": [],
   "source": [
    "df['x'] = [1 if x in list_clust_pass else 0 for x in df.cluster ]"
   ]
  },
  {
   "cell_type": "code",
   "execution_count": null,
   "metadata": {},
   "outputs": [],
   "source": [
    "df['x'] = [1 if x >= 0.47 else 0 for x in df['mean score']]"
   ]
  },
  {
   "cell_type": "code",
   "execution_count": null,
   "metadata": {},
   "outputs": [],
   "source": [
    "import matplotlib.pyplot as plt\n",
    "import seaborn as sns"
   ]
  },
  {
   "cell_type": "code",
   "execution_count": null,
   "metadata": {},
   "outputs": [],
   "source": [
    "plt.style.use('seaborn')"
   ]
  },
  {
   "cell_type": "code",
   "execution_count": null,
   "metadata": {},
   "outputs": [],
   "source": [
    "# PLOT AXES\n",
    "fig = plt.gcf()\n",
    "fig.set_size_inches(20, 13)\n",
    "plt.xticks(fontsize=12)\n",
    "plt.yticks(fontsize=16)\n",
    "plt.xlabel(\"cluster\", fontsize=18)\n",
    "plt.ylabel(\"mean score\", fontsize=16)\n",
    "ax = sns.barplot(data=df, x=\"cluster\", y=\"mean score\", linewidth=3, hue = 'x', hue='x')\n",
    "rango = 3ange(0, 100 + 10, 10)\n",
    "ax.set_xticks(rango)\n",
    "for x in rango:\n",
    "    ax.axvline(x, linestyle=\"-\", color=\"#7f7f7f\", linewidth=0.5)\n",
    "plt.show()\n",
    "plt.close()"
   ]
  },
  {
   "cell_type": "code",
   "execution_count": null,
   "metadata": {},
   "outputs": [],
   "source": [
    "len(df[df['mean score'] >= 0.47]['intent'].unique())"
   ]
  },
  {
   "cell_type": "code",
   "execution_count": null,
   "metadata": {},
   "outputs": [],
   "source": [
    "df['mean score'].hist()"
   ]
  },
  {
   "cell_type": "code",
   "execution_count": null,
   "metadata": {},
   "outputs": [],
   "source": [
    "df[df['x'] >= 0.47].describe()['mean score']"
   ]
  },
  {
   "cell_type": "code",
   "execution_count": null,
   "metadata": {},
   "outputs": [],
   "source": [
    "df[df['x'] >= 0.47].groupby(pd.Grouper(key='intent text')).count().reset_index().sort_values(by=['intent text'], ascending=True)"
   ]
  },
  {
   "cell_type": "code",
   "execution_count": null,
   "metadata": {},
   "outputs": [],
   "source": []
  },
  {
   "cell_type": "code",
   "execution_count": null,
   "metadata": {},
   "outputs": [],
   "source": [
    "df[df['x'] < 0.47].describe()['mean score']"
   ]
  },
  {
   "cell_type": "code",
   "execution_count": null,
   "metadata": {},
   "outputs": [],
   "source": []
  },
  {
   "source": [
    "---"
   ],
   "cell_type": "markdown",
   "metadata": {}
  },
  {
   "cell_type": "code",
   "execution_count": null,
   "metadata": {},
   "outputs": [],
   "source": []
  },
  {
   "cell_type": "code",
   "execution_count": null,
   "metadata": {},
   "outputs": [],
   "source": [
    "import pandas as pd\n",
    "import numpy as np\n",
    "import utils\n",
    "from collections import Counter\n",
    "\n",
    "from sklearn.feature_extraction.text import TfidfVectorizer\n",
    "from sklearn.metrics.pairwise import cosine_similarity\n",
    "from sklearn.cluster import KMeans, DBSCAN\n",
    "from sklearn import metrics\n",
    "from sklearn.preprocessing import LabelEncoder\n",
    "import matplotlib.pyplot as plt\n",
    "import seaborn as sns\n",
    "plt.style.use('seaborn')"
   ]
  },
  {
   "cell_type": "code",
   "execution_count": null,
   "metadata": {},
   "outputs": [],
   "source": [
    "df = utils.leer_dpto('SOAD')\n",
    "df_menus = utils.leer_menus_labels(\"menus-labels\")\n",
    "df_menus['idx'] = [i for i in range(0, len(df_menus))]\n",
    "print(f\"There are {len(df)} items in df\")\n",
    "print(f\"There are {len(df_menus)} items in df_menus\")"
   ]
  },
  {
   "cell_type": "code",
   "execution_count": null,
   "metadata": {},
   "outputs": [],
   "source": [
    "samples = df.sample(n=383, random_state=42).index\n",
    "samples"
   ]
  },
  {
   "cell_type": "code",
   "execution_count": null,
   "metadata": {},
   "outputs": [],
   "source": [
    "# calculate the similarity and establish a treshold\n",
    "BATCH_SIZE = 10000\n",
    "\n",
    "tfidf = TfidfVectorizer(ngram_range=(1,3))\n",
    "list_documents = df_menus['OracionLematizada'].values\n",
    "docs_tfidf = tfidf.fit_transform(list_documents)\n",
    "\n",
    "df['intent_idx'] = np.empty(len(df))\n",
    "df['intent_sim'] = np.empty(len(df))\n",
    "df['intent_text'] = np.empty(len(df))\n",
    "for index in range(0, df.shape[0], BATCH_SIZE):\n",
    "    batch = df.iloc[index:min(index+BATCH_SIZE,df.shape[0]),:]\n",
    "    list_query = batch['OracionLematizada'].values\n",
    "    query_tfidf = tfidf.transform(list_query)\n",
    "    cosineSimilarities = cosine_similarity(docs_tfidf, query_tfidf).T\n",
    "    df.iloc[batch.index.values, df.columns.get_loc('intent_idx')] = [np.argmax(sim) for sim in cosineSimilarities]\n",
    "    df.iloc[batch.index.values, df.columns.get_loc('intent_sim')] = [np.max(sim) for sim in cosineSimilarities]\n",
    "    df['intent_idx'] = df['intent_idx'].astype(int)\n",
    "    df.iloc[batch.index.values, df.columns.get_loc('intent_text')] = df_menus.iloc[df.iloc[batch.index.values, df.columns.get_loc('intent_idx')]]['OracionLematizada']\n",
    "    print(index)"
   ]
  },
  {
   "cell_type": "code",
   "execution_count": null,
   "metadata": {},
   "outputs": [],
   "source": [
    "df.head()"
   ]
  },
  {
   "cell_type": "code",
   "execution_count": null,
   "metadata": {},
   "outputs": [],
   "source": [
    "df.iloc[samples].sample(5)"
   ]
  },
  {
   "cell_type": "code",
   "execution_count": null,
   "metadata": {},
   "outputs": [],
   "source": [
    "df.iloc[samples]"
   ]
  }
 ]
}